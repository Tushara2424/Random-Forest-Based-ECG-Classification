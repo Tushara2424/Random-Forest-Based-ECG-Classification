{
 "cells": [
  {
   "cell_type": "code",
   "execution_count": 1,
   "metadata": {},
   "outputs": [],
   "source": [
    "import numpy as np\n",
    "import pandas as pd\n",
    "import matplotlib.pyplot as plt"
   ]
  },
  {
   "cell_type": "code",
   "execution_count": 2,
   "metadata": {},
   "outputs": [],
   "source": [
    "dataset=pd.read_csv(\"MCdb.csv\")"
   ]
  },
  {
   "cell_type": "code",
   "execution_count": 3,
   "metadata": {},
   "outputs": [
    {
     "data": {
      "text/html": [
       "<div>\n",
       "<style scoped>\n",
       "    .dataframe tbody tr th:only-of-type {\n",
       "        vertical-align: middle;\n",
       "    }\n",
       "\n",
       "    .dataframe tbody tr th {\n",
       "        vertical-align: top;\n",
       "    }\n",
       "\n",
       "    .dataframe thead th {\n",
       "        text-align: right;\n",
       "    }\n",
       "</style>\n",
       "<table border=\"1\" class=\"dataframe\">\n",
       "  <thead>\n",
       "    <tr style=\"text-align: right;\">\n",
       "      <th></th>\n",
       "      <th>C</th>\n",
       "      <th>FFGRL</th>\n",
       "      <th>FFQRH</th>\n",
       "      <th>RSSLOPE</th>\n",
       "      <th>RSXA</th>\n",
       "      <th>RPSTP</th>\n",
       "      <th>QTP</th>\n",
       "      <th>FFQRSD</th>\n",
       "      <th>RRR</th>\n",
       "      <th>RRPOST</th>\n",
       "      <th>FFRR2NDUR</th>\n",
       "      <th>TMA1mean</th>\n",
       "      <th>FMA2std</th>\n",
       "      <th>FMA2mean</th>\n",
       "    </tr>\n",
       "  </thead>\n",
       "  <tbody>\n",
       "    <tr>\n",
       "      <th>0</th>\n",
       "      <td>1</td>\n",
       "      <td>86.111</td>\n",
       "      <td>24</td>\n",
       "      <td>145</td>\n",
       "      <td>93</td>\n",
       "      <td>0.973720</td>\n",
       "      <td>1.7268</td>\n",
       "      <td>2.34210</td>\n",
       "      <td>1.61650</td>\n",
       "      <td>-104.10000</td>\n",
       "      <td>52.04800</td>\n",
       "      <td>0.013250</td>\n",
       "      <td>0.23847</td>\n",
       "      <td>0.22172</td>\n",
       "    </tr>\n",
       "    <tr>\n",
       "      <th>1</th>\n",
       "      <td>1</td>\n",
       "      <td>86.111</td>\n",
       "      <td>25</td>\n",
       "      <td>147</td>\n",
       "      <td>94</td>\n",
       "      <td>1.061300</td>\n",
       "      <td>1.8980</td>\n",
       "      <td>2.47370</td>\n",
       "      <td>1.86020</td>\n",
       "      <td>-109.94000</td>\n",
       "      <td>54.97100</td>\n",
       "      <td>0.013250</td>\n",
       "      <td>0.23847</td>\n",
       "      <td>0.22172</td>\n",
       "    </tr>\n",
       "    <tr>\n",
       "      <th>2</th>\n",
       "      <td>1</td>\n",
       "      <td>80.556</td>\n",
       "      <td>23</td>\n",
       "      <td>145</td>\n",
       "      <td>93</td>\n",
       "      <td>1.031200</td>\n",
       "      <td>1.8801</td>\n",
       "      <td>2.34970</td>\n",
       "      <td>1.75260</td>\n",
       "      <td>-97.90600</td>\n",
       "      <td>48.95300</td>\n",
       "      <td>0.027429</td>\n",
       "      <td>0.20224</td>\n",
       "      <td>0.18803</td>\n",
       "    </tr>\n",
       "    <tr>\n",
       "      <th>3</th>\n",
       "      <td>1</td>\n",
       "      <td>83.333</td>\n",
       "      <td>24</td>\n",
       "      <td>143</td>\n",
       "      <td>91</td>\n",
       "      <td>0.935230</td>\n",
       "      <td>1.6723</td>\n",
       "      <td>2.22550</td>\n",
       "      <td>1.41490</td>\n",
       "      <td>-98.90900</td>\n",
       "      <td>49.45500</td>\n",
       "      <td>0.016185</td>\n",
       "      <td>0.21673</td>\n",
       "      <td>0.21023</td>\n",
       "    </tr>\n",
       "    <tr>\n",
       "      <th>4</th>\n",
       "      <td>1</td>\n",
       "      <td>88.889</td>\n",
       "      <td>25</td>\n",
       "      <td>146</td>\n",
       "      <td>93</td>\n",
       "      <td>1.096100</td>\n",
       "      <td>2.0094</td>\n",
       "      <td>2.46500</td>\n",
       "      <td>1.85480</td>\n",
       "      <td>-109.55000</td>\n",
       "      <td>54.77700</td>\n",
       "      <td>0.018421</td>\n",
       "      <td>0.22375</td>\n",
       "      <td>0.21462</td>\n",
       "    </tr>\n",
       "    <tr>\n",
       "      <th>...</th>\n",
       "      <td>...</td>\n",
       "      <td>...</td>\n",
       "      <td>...</td>\n",
       "      <td>...</td>\n",
       "      <td>...</td>\n",
       "      <td>...</td>\n",
       "      <td>...</td>\n",
       "      <td>...</td>\n",
       "      <td>...</td>\n",
       "      <td>...</td>\n",
       "      <td>...</td>\n",
       "      <td>...</td>\n",
       "      <td>...</td>\n",
       "      <td>...</td>\n",
       "    </tr>\n",
       "    <tr>\n",
       "      <th>3246</th>\n",
       "      <td>1</td>\n",
       "      <td>83.333</td>\n",
       "      <td>24</td>\n",
       "      <td>146</td>\n",
       "      <td>94</td>\n",
       "      <td>1.030600</td>\n",
       "      <td>1.9069</td>\n",
       "      <td>2.31610</td>\n",
       "      <td>1.79120</td>\n",
       "      <td>-102.94000</td>\n",
       "      <td>51.46900</td>\n",
       "      <td>0.023092</td>\n",
       "      <td>0.21990</td>\n",
       "      <td>0.20799</td>\n",
       "    </tr>\n",
       "    <tr>\n",
       "      <th>3247</th>\n",
       "      <td>1</td>\n",
       "      <td>197.220</td>\n",
       "      <td>50</td>\n",
       "      <td>172</td>\n",
       "      <td>119</td>\n",
       "      <td>1.112300</td>\n",
       "      <td>2.1618</td>\n",
       "      <td>2.46360</td>\n",
       "      <td>1.94840</td>\n",
       "      <td>-280.57000</td>\n",
       "      <td>140.29000</td>\n",
       "      <td>0.015755</td>\n",
       "      <td>0.21718</td>\n",
       "      <td>0.20924</td>\n",
       "    </tr>\n",
       "    <tr>\n",
       "      <th>3248</th>\n",
       "      <td>1</td>\n",
       "      <td>88.889</td>\n",
       "      <td>26</td>\n",
       "      <td>146</td>\n",
       "      <td>93</td>\n",
       "      <td>1.087100</td>\n",
       "      <td>2.0517</td>\n",
       "      <td>2.35600</td>\n",
       "      <td>1.99070</td>\n",
       "      <td>-111.26000</td>\n",
       "      <td>55.62900</td>\n",
       "      <td>0.014341</td>\n",
       "      <td>0.22506</td>\n",
       "      <td>0.21824</td>\n",
       "    </tr>\n",
       "    <tr>\n",
       "      <th>3249</th>\n",
       "      <td>1</td>\n",
       "      <td>86.111</td>\n",
       "      <td>24</td>\n",
       "      <td>143</td>\n",
       "      <td>91</td>\n",
       "      <td>1.049600</td>\n",
       "      <td>1.8812</td>\n",
       "      <td>2.47730</td>\n",
       "      <td>1.77690</td>\n",
       "      <td>-110.10000</td>\n",
       "      <td>55.05100</td>\n",
       "      <td>0.020325</td>\n",
       "      <td>0.22911</td>\n",
       "      <td>0.21912</td>\n",
       "    </tr>\n",
       "    <tr>\n",
       "      <th>3250</th>\n",
       "      <td>1</td>\n",
       "      <td>33.333</td>\n",
       "      <td>9</td>\n",
       "      <td>60</td>\n",
       "      <td>8</td>\n",
       "      <td>-0.022395</td>\n",
       "      <td>1.7995</td>\n",
       "      <td>-0.27824</td>\n",
       "      <td>0.65725</td>\n",
       "      <td>0.77289</td>\n",
       "      <td>-0.38645</td>\n",
       "      <td>0.013250</td>\n",
       "      <td>0.23847</td>\n",
       "      <td>0.22172</td>\n",
       "    </tr>\n",
       "  </tbody>\n",
       "</table>\n",
       "<p>3251 rows × 14 columns</p>\n",
       "</div>"
      ],
      "text/plain": [
       "      C    FFGRL  FFQRH  RSSLOPE  RSXA     RPSTP     QTP   FFQRSD      RRR  \\\n",
       "0     1   86.111     24      145    93  0.973720  1.7268  2.34210  1.61650   \n",
       "1     1   86.111     25      147    94  1.061300  1.8980  2.47370  1.86020   \n",
       "2     1   80.556     23      145    93  1.031200  1.8801  2.34970  1.75260   \n",
       "3     1   83.333     24      143    91  0.935230  1.6723  2.22550  1.41490   \n",
       "4     1   88.889     25      146    93  1.096100  2.0094  2.46500  1.85480   \n",
       "...  ..      ...    ...      ...   ...       ...     ...      ...      ...   \n",
       "3246  1   83.333     24      146    94  1.030600  1.9069  2.31610  1.79120   \n",
       "3247  1  197.220     50      172   119  1.112300  2.1618  2.46360  1.94840   \n",
       "3248  1   88.889     26      146    93  1.087100  2.0517  2.35600  1.99070   \n",
       "3249  1   86.111     24      143    91  1.049600  1.8812  2.47730  1.77690   \n",
       "3250  1   33.333      9       60     8 -0.022395  1.7995 -0.27824  0.65725   \n",
       "\n",
       "         RRPOST  FFRR2NDUR  TMA1mean  FMA2std  FMA2mean  \n",
       "0    -104.10000   52.04800  0.013250  0.23847   0.22172  \n",
       "1    -109.94000   54.97100  0.013250  0.23847   0.22172  \n",
       "2     -97.90600   48.95300  0.027429  0.20224   0.18803  \n",
       "3     -98.90900   49.45500  0.016185  0.21673   0.21023  \n",
       "4    -109.55000   54.77700  0.018421  0.22375   0.21462  \n",
       "...         ...        ...       ...      ...       ...  \n",
       "3246 -102.94000   51.46900  0.023092  0.21990   0.20799  \n",
       "3247 -280.57000  140.29000  0.015755  0.21718   0.20924  \n",
       "3248 -111.26000   55.62900  0.014341  0.22506   0.21824  \n",
       "3249 -110.10000   55.05100  0.020325  0.22911   0.21912  \n",
       "3250    0.77289   -0.38645  0.013250  0.23847   0.22172  \n",
       "\n",
       "[3251 rows x 14 columns]"
      ]
     },
     "execution_count": 3,
     "metadata": {},
     "output_type": "execute_result"
    }
   ],
   "source": [
    "dataset"
   ]
  },
  {
   "cell_type": "code",
   "execution_count": 4,
   "metadata": {},
   "outputs": [],
   "source": [
    "x=dataset.iloc[:,1:14]"
   ]
  },
  {
   "cell_type": "code",
   "execution_count": 5,
   "metadata": {},
   "outputs": [],
   "source": [
    "x=dataset.iloc[:,1:14].values"
   ]
  },
  {
   "cell_type": "code",
   "execution_count": 6,
   "metadata": {},
   "outputs": [
    {
     "data": {
      "text/plain": [
       "array([[8.6111e+01, 2.4000e+01, 1.4500e+02, ..., 1.3250e-02, 2.3847e-01,\n",
       "        2.2172e-01],\n",
       "       [8.6111e+01, 2.5000e+01, 1.4700e+02, ..., 1.3250e-02, 2.3847e-01,\n",
       "        2.2172e-01],\n",
       "       [8.0556e+01, 2.3000e+01, 1.4500e+02, ..., 2.7429e-02, 2.0224e-01,\n",
       "        1.8803e-01],\n",
       "       ...,\n",
       "       [8.8889e+01, 2.6000e+01, 1.4600e+02, ..., 1.4341e-02, 2.2506e-01,\n",
       "        2.1824e-01],\n",
       "       [8.6111e+01, 2.4000e+01, 1.4300e+02, ..., 2.0325e-02, 2.2911e-01,\n",
       "        2.1912e-01],\n",
       "       [3.3333e+01, 9.0000e+00, 6.0000e+01, ..., 1.3250e-02, 2.3847e-01,\n",
       "        2.2172e-01]])"
      ]
     },
     "execution_count": 6,
     "metadata": {},
     "output_type": "execute_result"
    }
   ],
   "source": [
    "x"
   ]
  },
  {
   "cell_type": "code",
   "execution_count": 7,
   "metadata": {},
   "outputs": [
    {
     "data": {
      "text/plain": [
       "C            False\n",
       "FFGRL        False\n",
       "FFQRH        False\n",
       "RSSLOPE      False\n",
       "RSXA         False\n",
       "RPSTP        False\n",
       " QTP         False\n",
       "FFQRSD       False\n",
       "RRR          False\n",
       "RRPOST       False\n",
       "FFRR2NDUR    False\n",
       "TMA1mean     False\n",
       "FMA2std      False\n",
       "FMA2mean     False\n",
       "dtype: bool"
      ]
     },
     "execution_count": 7,
     "metadata": {},
     "output_type": "execute_result"
    }
   ],
   "source": [
    "dataset.isnull().any()"
   ]
  },
  {
   "cell_type": "code",
   "execution_count": 8,
   "metadata": {},
   "outputs": [],
   "source": [
    "y=dataset.iloc[:,0]"
   ]
  },
  {
   "cell_type": "code",
   "execution_count": 9,
   "metadata": {},
   "outputs": [],
   "source": [
    "y=dataset.iloc[:,0].values"
   ]
  },
  {
   "cell_type": "code",
   "execution_count": 10,
   "metadata": {},
   "outputs": [
    {
     "data": {
      "text/plain": [
       "array([1, 1, 1, ..., 1, 1, 1], dtype=int64)"
      ]
     },
     "execution_count": 10,
     "metadata": {},
     "output_type": "execute_result"
    }
   ],
   "source": [
    "y"
   ]
  },
  {
   "cell_type": "code",
   "execution_count": 11,
   "metadata": {},
   "outputs": [
    {
     "data": {
      "text/plain": [
       "(3251,)"
      ]
     },
     "execution_count": 11,
     "metadata": {},
     "output_type": "execute_result"
    }
   ],
   "source": [
    "y.shape"
   ]
  },
  {
   "cell_type": "code",
   "execution_count": 12,
   "metadata": {},
   "outputs": [],
   "source": [
    "from sklearn.model_selection import train_test_split\n",
    "x_train, x_test, y_train, y_test = train_test_split(x, y, test_size = 0.2, random_state = 0)"
   ]
  },
  {
   "cell_type": "code",
   "execution_count": 13,
   "metadata": {},
   "outputs": [
    {
     "data": {
      "text/plain": [
       "array([[8.8889e+01, 2.5000e+01, 1.4400e+02, ..., 2.1462e-02, 2.1229e-01,\n",
       "        2.0146e-01],\n",
       "       [1.0833e+02, 3.2000e+01, 1.5200e+02, ..., 2.7989e-02, 2.1849e-01,\n",
       "        2.0430e-01],\n",
       "       [1.9167e+02, 6.8000e+01, 1.8400e+02, ..., 2.8142e-03, 5.1163e-01,\n",
       "        5.0766e-01],\n",
       "       ...,\n",
       "       [8.8889e+01, 2.5000e+01, 1.4400e+02, ..., 2.0357e-02, 2.1660e-01,\n",
       "        2.0644e-01],\n",
       "       [8.3333e+01, 2.4000e+01, 1.4400e+02, ..., 1.8369e-02, 2.1573e-01,\n",
       "        2.0646e-01],\n",
       "       [9.1667e+01, 2.5000e+01, 1.4700e+02, ..., 3.0163e-02, 2.2104e-01,\n",
       "        2.0456e-01]])"
      ]
     },
     "execution_count": 13,
     "metadata": {},
     "output_type": "execute_result"
    }
   ],
   "source": [
    "x_train"
   ]
  },
  {
   "cell_type": "code",
   "execution_count": 14,
   "metadata": {},
   "outputs": [],
   "source": [
    "y_train=y_train.flatten()"
   ]
  },
  {
   "cell_type": "code",
   "execution_count": 15,
   "metadata": {},
   "outputs": [],
   "source": [
    "from sklearn.ensemble import RandomForestClassifier"
   ]
  },
  {
   "cell_type": "code",
   "execution_count": 16,
   "metadata": {},
   "outputs": [
    {
     "data": {
      "text/plain": [
       "RandomForestClassifier(bootstrap=True, ccp_alpha=0.0, class_weight=None,\n",
       "                       criterion='gini', max_depth=None, max_features='auto',\n",
       "                       max_leaf_nodes=None, max_samples=None,\n",
       "                       min_impurity_decrease=0.0, min_impurity_split=None,\n",
       "                       min_samples_leaf=1, min_samples_split=2,\n",
       "                       min_weight_fraction_leaf=0.0, n_estimators=10,\n",
       "                       n_jobs=None, oob_score=False, random_state=None,\n",
       "                       verbose=0, warm_start=False)"
      ]
     },
     "execution_count": 16,
     "metadata": {},
     "output_type": "execute_result"
    }
   ],
   "source": [
    "classifier=RandomForestClassifier(n_estimators=10)\n",
    "classifier.fit(x_train,y_train)"
   ]
  },
  {
   "cell_type": "code",
   "execution_count": 17,
   "metadata": {},
   "outputs": [],
   "source": [
    "y_pred  = classifier.predict(x_test)"
   ]
  },
  {
   "cell_type": "code",
   "execution_count": 18,
   "metadata": {},
   "outputs": [],
   "source": [
    "from sklearn.metrics import confusion_matrix\n",
    "cm1=confusion_matrix(y_test,y_pred)"
   ]
  },
  {
   "cell_type": "code",
   "execution_count": 19,
   "metadata": {},
   "outputs": [
    {
     "data": {
      "text/plain": [
       "array([[108,   9],\n",
       "       [  7, 527]], dtype=int64)"
      ]
     },
     "execution_count": 19,
     "metadata": {},
     "output_type": "execute_result"
    }
   ],
   "source": [
    "cm1"
   ]
  },
  {
   "cell_type": "code",
   "execution_count": 20,
   "metadata": {},
   "outputs": [
    {
     "data": {
      "text/plain": [
       "0.9754224270353302"
      ]
     },
     "execution_count": 20,
     "metadata": {},
     "output_type": "execute_result"
    }
   ],
   "source": [
    "from sklearn.metrics import accuracy_score\n",
    "accuracy_score(y_test,y_pred)"
   ]
  },
  {
   "cell_type": "code",
   "execution_count": 21,
   "metadata": {},
   "outputs": [],
   "source": [
    "sensitivity1 = cm1[0,0]/(cm1[0,0]+cm1[0,1])"
   ]
  },
  {
   "cell_type": "code",
   "execution_count": 22,
   "metadata": {},
   "outputs": [
    {
     "data": {
      "text/plain": [
       "0.9230769230769231"
      ]
     },
     "execution_count": 22,
     "metadata": {},
     "output_type": "execute_result"
    }
   ],
   "source": [
    "sensitivity1"
   ]
  },
  {
   "cell_type": "code",
   "execution_count": 23,
   "metadata": {},
   "outputs": [],
   "source": [
    "specificity1 = cm1[1,1]/(cm1[1,0]+cm1[1,1])"
   ]
  },
  {
   "cell_type": "code",
   "execution_count": 24,
   "metadata": {},
   "outputs": [
    {
     "data": {
      "text/plain": [
       "0.9868913857677902"
      ]
     },
     "execution_count": 24,
     "metadata": {},
     "output_type": "execute_result"
    }
   ],
   "source": [
    "specificity1\n"
   ]
  },
  {
   "cell_type": "code",
   "execution_count": 25,
   "metadata": {},
   "outputs": [],
   "source": [
    "total1=sum(sum(cm1))"
   ]
  },
  {
   "cell_type": "code",
   "execution_count": 26,
   "metadata": {},
   "outputs": [],
   "source": [
    "accuracy1=(cm1[0,0]+cm1[1,1])/total1"
   ]
  },
  {
   "cell_type": "code",
   "execution_count": 27,
   "metadata": {},
   "outputs": [
    {
     "data": {
      "text/plain": [
       "0.9754224270353302"
      ]
     },
     "execution_count": 27,
     "metadata": {},
     "output_type": "execute_result"
    }
   ],
   "source": [
    "accuracy1"
   ]
  },
  {
   "cell_type": "code",
   "execution_count": 28,
   "metadata": {},
   "outputs": [],
   "source": [
    "fpr=cm1[1,0]/(cm1[1,0]+cm1[1,1])"
   ]
  },
  {
   "cell_type": "code",
   "execution_count": 29,
   "metadata": {},
   "outputs": [
    {
     "data": {
      "text/plain": [
       "0.013108614232209739"
      ]
     },
     "execution_count": 29,
     "metadata": {},
     "output_type": "execute_result"
    }
   ],
   "source": [
    "fpr"
   ]
  },
  {
   "cell_type": "code",
   "execution_count": 31,
   "metadata": {},
   "outputs": [],
   "source": [
    "import sklearn.metrics as metrics\n",
    "fpr,tpr,threshold=metrics.roc_curve(y_test,y_pred)\n",
    "roc_auc=metrics.auc(fpr,tpr)"
   ]
  },
  {
   "cell_type": "code",
   "execution_count": 32,
   "metadata": {},
   "outputs": [
    {
     "data": {
      "text/plain": [
       "0.9549841544223566"
      ]
     },
     "execution_count": 32,
     "metadata": {},
     "output_type": "execute_result"
    }
   ],
   "source": [
    "roc_auc"
   ]
  },
  {
   "cell_type": "code",
   "execution_count": 33,
   "metadata": {},
   "outputs": [
    {
     "data": {
      "text/plain": [
       "<matplotlib.legend.Legend at 0x1bbbfe88b88>"
      ]
     },
     "execution_count": 33,
     "metadata": {},
     "output_type": "execute_result"
    },
    {
     "data": {
      "image/png": "[encoded data removed]",
      "text/plain": [
       "<Figure size 432x288 with 1 Axes>"
      ]
     },
     "metadata": {
      "needs_background": "light"
     },
     "output_type": "display_data"
    }
   ],
   "source": [
    "plt.plot(fpr,tpr,label=\"auc\")\n",
    "plt.xlabel(\"FPR\")\n",
    "plt.ylabel(\"TPR\")\n",
    "plt.title(\"ROC Curve\")\n",
    "plt.xlim([0,1])\n",
    "plt.ylim([0,1])\n",
    "plt.legend()"
   ]
  },
  {
   "cell_type": "code",
   "execution_count": 34,
   "metadata": {},
   "outputs": [
    {
     "name": "stderr",
     "output_type": "stream",
     "text": [
      "F:\\Anaconda\\lib\\site-packages\\sklearn\\linear_model\\_logistic.py:940: ConvergenceWarning: lbfgs failed to converge (status=1):\n",
      "STOP: TOTAL NO. of ITERATIONS REACHED LIMIT.\n",
      "\n",
      "Increase the number of iterations (max_iter) or scale the data as shown in:\n",
      "    https://scikit-learn.org/stable/modules/preprocessing.html\n",
      "Please also refer to the documentation for alternative solver options:\n",
      "    https://scikit-learn.org/stable/modules/linear_model.html#logistic-regression\n",
      "  extra_warning_msg=_LOGISTIC_SOLVER_CONVERGENCE_MSG)\n"
     ]
    }
   ],
   "source": [
    "from sklearn.linear_model import LogisticRegression\n",
    "lr=LogisticRegression()\n",
    "lr.fit(x_train,y_train)\n",
    "y_pred_lr=lr.predict(x_test)"
   ]
  },
  {
   "cell_type": "code",
   "execution_count": 35,
   "metadata": {},
   "outputs": [],
   "source": [
    "import sklearn.metrics as metrics\n",
    "fpr, tpr, threshold = metrics.roc_curve(y_test, y_pred_lr)\n",
    "roc_auc_lr = metrics.auc(fpr, tpr)"
   ]
  },
  {
   "cell_type": "code",
   "execution_count": 36,
   "metadata": {},
   "outputs": [],
   "source": [
    "from sklearn.neighbors import KNeighborsClassifier\n",
    "classifier_knn = KNeighborsClassifier(n_neighbors = 5, metric = 'minkowski', p = 2)\n",
    "classifier_knn.fit(x_train, y_train)\n",
    "y_pred_knn = classifier_knn.predict(x_test)"
   ]
  },
  {
   "cell_type": "code",
   "execution_count": 37,
   "metadata": {},
   "outputs": [],
   "source": [
    "import sklearn.metrics as metrics\n",
    "fpr, tpr, threshold = metrics.roc_curve(y_test, y_pred_knn)\n",
    "roc_auc_knn= metrics.auc(fpr, tpr)"
   ]
  },
  {
   "cell_type": "code",
   "execution_count": 38,
   "metadata": {},
   "outputs": [],
   "source": [
    "from sklearn.svm import SVC\n",
    "classifier_svc = SVC(kernel = 'linear')\n",
    "classifier_svc.fit(x_train, y_train)\n",
    "y_pred_svc = classifier_svc.predict(x_test)"
   ]
  },
  {
   "cell_type": "code",
   "execution_count": 39,
   "metadata": {},
   "outputs": [],
   "source": [
    "import sklearn.metrics as metrics\n",
    "fpr, tpr, threshold = metrics.roc_curve(y_test, y_pred_svc)\n",
    "roc_auc_svc = metrics.auc(fpr, tpr)"
   ]
  },
  {
   "cell_type": "code",
   "execution_count": 40,
   "metadata": {},
   "outputs": [],
   "source": [
    "from sklearn.svm import SVC\n",
    "classifier_svm = SVC(kernel = 'rbf', random_state = 0)\n",
    "classifier_svm.fit(x_train, y_train)\n",
    "y_pred_svm = classifier_svm.predict(x_test)"
   ]
  },
  {
   "cell_type": "code",
   "execution_count": 41,
   "metadata": {},
   "outputs": [],
   "source": [
    "import sklearn.metrics as metrics\n",
    "fpr, tpr, threshold = metrics.roc_curve(y_test, y_pred_svm)\n",
    "roc_auc_svm = metrics.auc(fpr, tpr)"
   ]
  },
  {
   "cell_type": "code",
   "execution_count": 42,
   "metadata": {},
   "outputs": [],
   "source": [
    "from sklearn.tree import DecisionTreeClassifier\n",
    "classifier_dt = DecisionTreeClassifier(criterion = 'entropy', random_state = 0)\n",
    "classifier_dt.fit(x_train, y_train)\n",
    "y_pred_dt = classifier_dt.predict(x_test)"
   ]
  },
  {
   "cell_type": "code",
   "execution_count": 43,
   "metadata": {},
   "outputs": [],
   "source": [
    "import sklearn.metrics as metrics\n",
    "fpr, tpr, threshold = metrics.roc_curve(y_test, y_pred_dt)\n",
    "roc_auc_dt = metrics.auc(fpr, tpr)"
   ]
  },
  {
   "cell_type": "code",
   "execution_count": 44,
   "metadata": {},
   "outputs": [],
   "source": [
    "from sklearn.ensemble import RandomForestClassifier\n",
    "classifier=RandomForestClassifier(n_estimators=10)\n",
    "classifier.fit(x_train,y_train)\n",
    "y_pred  = classifier.predict(x_test)"
   ]
  },
  {
   "cell_type": "code",
   "execution_count": 45,
   "metadata": {},
   "outputs": [],
   "source": [
    "import sklearn.metrics as metrics\n",
    "fpr, tpr, threshold = metrics.roc_curve(y_test, y_pred)\n",
    "roc_auc = metrics.auc(fpr, tpr)"
   ]
  },
  {
   "cell_type": "code",
   "execution_count": 46,
   "metadata": {},
   "outputs": [
    {
     "data": {
      "image/png": "[encoded data removed]",
      "text/plain": [
       "<Figure size 432x288 with 1 Axes>"
      ]
     },
     "metadata": {
      "needs_background": "light"
     },
     "output_type": "display_data"
    }
   ],
   "source": [
    "x=[\"LR\",\"KNN\",\"Linear SVM\",\"Gaussian SVM\",\"DT\",\"RF\"]\n",
    "data=[roc_auc,roc_auc_knn,roc_auc_svc,roc_auc_svm,roc_auc_dt,roc_auc]\n",
    "\n",
    "import matplotlib.pyplot as plt\n",
    "plt.title('AUC')\n",
    "plt.bar(x, data)\n",
    "plt.show()"
   ]
  },
  {
   "cell_type": "code",
   "execution_count": null,
   "metadata": {},
   "outputs": [],
   "source": []
  }
 ],
 "metadata": {
  "kernelspec": {
   "display_name": "Python 3",
   "language": "python",
   "name": "python3"
  },
  "language_info": {
   "codemirror_mode": {
    "name": "ipython",
    "version": 3
   },
   "file_extension": ".py",
   "mimetype": "text/x-python",
   "name": "python",
   "nbconvert_exporter": "python",
   "pygments_lexer": "ipython3",
   "version": "3.7.6"
  }
 },
 "nbformat": 4,
 "nbformat_minor": 2
}
